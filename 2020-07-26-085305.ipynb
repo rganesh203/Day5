{
 "cells": [
  {
   "cell_type": "code",
   "execution_count": 3,
   "metadata": {
    "collapsed": false
   },
   "outputs": [
    {
     "name": "stdout",
     "output_type": "stream",
     "text": [
      "[0, 1, 2, 10, 4, 1, 0, 56, 2, 0, 1, 3, 0, 56, 0, 4]\n"
     ]
    }
   ],
   "source": [
    "List1 = [0, 1, 2, 10, 4, 1, 0, 56, 2, 0, 1, 3, 0, 56, 0, 4]\n",
    "print(List1)"
   ]
  },
  {
   "cell_type": "code",
   "execution_count": 4,
   "metadata": {
    "collapsed": false
   },
   "outputs": [
    {
     "name": "stdout",
     "output_type": "stream",
     "text": [
      "[0, 0, 0, 0, 0, 1, 1, 1, 2, 2, 3, 4, 4, 10, 56, 56]\n"
     ]
    }
   ],
   "source": [
    "List1.sort()\n",
    "print(List1)"
   ]
  },
  {
   "cell_type": "code",
   "execution_count": 15,
   "metadata": {
    "collapsed": false
   },
   "outputs": [
    {
     "name": "stdout",
     "output_type": "stream",
     "text": [
      "[56, 56, 10, 4, 4, 3, 2, 2, 1, 1, 1, 0, 0, 0, 0, 0]\n"
     ]
    }
   ],
   "source": [
    "List1.sort(reverse=3)\n",
    "print(List1)"
   ]
  },
  {
   "cell_type": "code",
   "execution_count": 18,
   "metadata": {
    "collapsed": false
   },
   "outputs": [
    {
     "name": "stdout",
     "output_type": "stream",
     "text": [
      "[10, 20, 40, 60, 70, 80]\n",
      "[5, 15, 25, 35, 45, 60]\n"
     ]
    }
   ],
   "source": [
    "list1 = [10, 20, 40, 60, 70, 80]\n",
    "list2 = [5, 15, 25, 35, 45, 60]\n",
    "print(list1)\n",
    "print(list2)"
   ]
  },
  {
   "cell_type": "code",
   "execution_count": 8,
   "metadata": {
    "cocalc": {
     "outputs": {
      "0": {
       "name": "input",
       "opts": {
        "password": false,
        "prompt": "Enter total numbers of the first list : "
       },
       "output_type": "stream",
       "value": "6"
      },
      "1": {
       "name": "input",
       "opts": {
        "password": false,
        "prompt": "Enter : "
       },
       "output_type": "stream",
       "value": "10"
      },
      "2": {
       "name": "input",
       "opts": {
        "password": false,
        "prompt": "Enter : "
       },
       "output_type": "stream",
       "value": "20"
      },
      "3": {
       "name": "input",
       "opts": {
        "password": false,
        "prompt": "Enter : "
       },
       "output_type": "stream",
       "value": "40"
      },
      "4": {
       "name": "input",
       "opts": {
        "password": false,
        "prompt": "Enter : "
       },
       "output_type": "stream",
       "value": "60"
      },
      "5": {
       "name": "input",
       "opts": {
        "password": false,
        "prompt": "Enter : "
       },
       "output_type": "stream",
       "value": "70"
      },
      "6": {
       "name": "input",
       "opts": {
        "password": false,
        "prompt": "Enter : "
       },
       "output_type": "stream",
       "value": "80"
      },
      "7": {
       "name": "input",
       "opts": {
        "password": false,
        "prompt": "Enter total numbers of the second list : "
       },
       "output_type": "stream"
      }
     }
    },
    "collapsed": false
   },
   "outputs": [
    {
     "name": "stdout",
     "output_type": "stream",
     "text": "Enter total numbers of the first list :  6"
    },
    {
     "name": "stdout",
     "output_type": "stream",
     "text": "Enter :  10"
    },
    {
     "name": "stdout",
     "output_type": "stream",
     "text": "Enter :  20"
    },
    {
     "name": "stdout",
     "output_type": "stream",
     "text": "Enter :  40"
    },
    {
     "name": "stdout",
     "output_type": "stream",
     "text": "Enter :  60"
    },
    {
     "name": "stdout",
     "output_type": "stream",
     "text": "Enter :  70"
    },
    {
     "name": "stdout",
     "output_type": "stream",
     "text": "Enter :  80"
    },
    {
     "name": "stdout",
     "output_type": "stream",
     "text": "Enter total numbers of the second list :  "
    }
   ],
   "source": [
    "list1 = [10, 20, 40, 60, 70, 80]\n",
    "list2 = [5, 15, 25, 35, 45, 60]\n",
    "\n",
    "#get total count for the first list\n",
    "count_list1 = int(input(\"Enter total numbers of the first list : \"))\n",
    "#take inputs from the user for the first list\n",
    "for i in range(1,count_list1+1):\n",
    "  no = int(input(\"Enter : \"))\n",
    "  list1.append(no)\n",
    "\n",
    "#get total count for the second list\n",
    "count_list2 = int(input(\"Enter total numbers of the second list : \"))\n",
    "#take inputs from the user for the second list\n",
    "for i in range(1,count_list2+1):\n",
    "  no = int(input(\"Enter : \"))\n",
    "  list2.append(no)\n",
    "  \n",
    "#print first and second list\n",
    "print(\"First list: \",list1)\n",
    "print(\"Second list: \",list2)\n",
    "\n",
    "#append both list\n",
    "final_list = list1 + list2\n",
    "#sort the final list\n",
    "final_list.sort()\n",
    "\n",
    "#print the final sorted list\n",
    "print(\"Final list : \",final_list)"
   ]
  },
  {
   "cell_type": "code",
   "execution_count": 0,
   "metadata": {
    "collapsed": false
   },
   "outputs": [
   ],
   "source": [
   ]
  },
  {
   "cell_type": "code",
   "execution_count": 0,
   "metadata": {
    "collapsed": false
   },
   "outputs": [
   ],
   "source": [
   ]
  }
 ],
 "metadata": {
  "kernelspec": {
   "display_name": "Python 3 (system-wide)",
   "language": "python",
   "metadata": {
    "cocalc": {
     "description": "Python 3 programming language",
     "priority": 100,
     "url": "https://www.python.org/"
    }
   },
   "name": "python3"
  },
  "language_info": {
   "codemirror_mode": {
    "name": "ipython",
    "version": 3
   },
   "file_extension": ".py",
   "mimetype": "text/x-python",
   "name": "python",
   "nbconvert_exporter": "python",
   "pygments_lexer": "ipython3",
   "version": "3.6.9"
  }
 },
 "nbformat": 4,
 "nbformat_minor": 4
}